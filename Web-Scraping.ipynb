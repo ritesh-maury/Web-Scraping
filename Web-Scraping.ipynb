{
 "cells": [
  {
   "cell_type": "markdown",
   "id": "ea0cf44f",
   "metadata": {},
   "source": [
    "Name\n",
    "\n",
    "Sale price\n",
    "\n",
    "Actual price\n",
    "\n",
    "Ratting\n",
    "\n",
    "No. of Review\n",
    "\n",
    "No. of ratting\n",
    "\n",
    "offer"
   ]
  },
  {
   "cell_type": "code",
   "execution_count": 1,
   "id": "f5c7c975",
   "metadata": {},
   "outputs": [],
   "source": [
    "import pandas as pd\n",
    "import numpy as np"
   ]
  },
  {
   "cell_type": "code",
   "execution_count": 2,
   "id": "ade6c739",
   "metadata": {},
   "outputs": [],
   "source": [
    "from bs4 import BeautifulSoup as soup\n",
    "from urllib.request import urlopen"
   ]
  },
  {
   "cell_type": "code",
   "execution_count": 3,
   "id": "141f846f",
   "metadata": {},
   "outputs": [],
   "source": [
    "url = \"https://www.flipkart.com/search?q=iphone&otracker=search&otracker1=search&marketplace=FLIPKART&as-show=on&as=off\""
   ]
  },
  {
   "cell_type": "code",
   "execution_count": 4,
   "id": "64d70fed",
   "metadata": {},
   "outputs": [],
   "source": [
    "uClient = urlopen(url)\n",
    "page_html = uClient.read()\n",
    "uClient.close()"
   ]
  },
  {
   "cell_type": "code",
   "execution_count": 7,
   "id": "83ca3cc1",
   "metadata": {},
   "outputs": [],
   "source": [
    "page_soup = soup(page_html,\"html.parser\")"
   ]
  },
  {
   "cell_type": "code",
   "execution_count": 9,
   "id": "534fc9cf",
   "metadata": {},
   "outputs": [],
   "source": [
    "container = page_soup.find_all(\"div\",{\"class\":\"_2kHMtA\"})"
   ]
  },
  {
   "cell_type": "code",
   "execution_count": 12,
   "id": "49bc41d6",
   "metadata": {},
   "outputs": [
    {
     "name": "stdout",
     "output_type": "stream",
     "text": [
      "<div class=\"_2kHMtA\">\n",
      " <a class=\"_1fQZEK\" href=\"/apple-iphone-12-mini-black-64-gb/p/itm38b727191eb08?pid=MOBFWBYZXSEGBS6F&amp;lid=LSTMOBFWBYZXSEGBS6FTONJ6W&amp;marketplace=FLIPKART&amp;q=iphone&amp;store=tyy%2F4io&amp;srno=s_1_1&amp;otracker=search&amp;otracker1=search&amp;fm=organic&amp;iid=7ceba4b0-a9fe-47e4-83b4-d1238ec1da5c.MOBFWBYZXSEGBS6F.SEARCH&amp;ppt=None&amp;ppn=None&amp;ssid=t6g593evsg0000001641030593776&amp;qH=0b3f45b266a97d70\" rel=\"noopener noreferrer\" target=\"_blank\">\n",
      "  <div class=\"MIXNux\">\n",
      "   <div class=\"_2QcLo-\">\n",
      "    <div>\n",
      "     <div class=\"CXW8mj\" style=\"height:200px;width:200px\">\n",
      "      <img alt=\"APPLE iPhone 12 Mini (Black, 64 GB)\" class=\"_396cs4 _3exPp9\" src=\"https://rukminim1.flixcart.com/image/312/312/kg8avm80/mobile/n/p/d/apple-iphone-12-mini-dummyapplefsn-original-imafwgbfwyzztfnh.jpeg?q=70\"/>\n",
      "     </div>\n",
      "    </div>\n",
      "   </div>\n",
      "   <div class=\"_3wLduG\">\n",
      "    <div class=\"_3PzNI-\">\n",
      "     <span class=\"f3A4_V\">\n",
      "      <label class=\"_2iDkf8\">\n",
      "       <input class=\"_30VH1S\" readonly=\"\" type=\"checkbox\"/>\n",
      "       <div class=\"_24_Dny\">\n",
      "       </div>\n",
      "      </label>\n",
      "     </span>\n",
      "     <label class=\"_6Up2sF\">\n",
      "      <span>\n",
      "       Add to Compare\n",
      "      </span>\n",
      "     </label>\n",
      "    </div>\n",
      "   </div>\n",
      "   <div class=\"_2hVSre _3nq8ih\">\n",
      "    <div class=\"_36FSn5\">\n",
      "     <svg class=\"_1l0elc\" height=\"16\" viewbox=\"0 0 20 16\" width=\"16\" xmlns=\"http://www.w3.org/2000/svg\">\n",
      "      <path class=\"eX72wL\" d=\"M8.695 16.682C4.06 12.382 1 9.536 1 6.065 1 3.219 3.178 1 5.95 1c1.566 0 3.069.746 4.05 1.915C10.981 1.745 12.484 1 14.05 1 16.822 1 19 3.22 19 6.065c0 3.471-3.06 6.316-7.695 10.617L10 17.897l-1.305-1.215z\" fill=\"#2874F0\" fill-rule=\"evenodd\" opacity=\".9\" stroke=\"#FFF\">\n",
      "      </path>\n",
      "     </svg>\n",
      "    </div>\n",
      "   </div>\n",
      "  </div>\n",
      "  <div class=\"_3pLy-c row\">\n",
      "   <div class=\"col col-7-12\">\n",
      "    <div class=\"_4rR01T\">\n",
      "     APPLE iPhone 12 Mini (Black, 64 GB)\n",
      "    </div>\n",
      "    <div class=\"gUuXy-\">\n",
      "     <span class=\"_1lRcqv\" id=\"productRating_LSTMOBFWBYZXSEGBS6FTONJ6W_MOBFWBYZXSEGBS6F_\">\n",
      "      <div class=\"_3LWZlK\">\n",
      "       4.5\n",
      "       <img class=\"_1wB99o\" src=\"data:image/svg+xml;base64,PHN2ZyB4bWxucz0iaHR0cDovL3d3dy53My5vcmcvMjAwMC9zdmciIHdpZHRoPSIxMyIgaGVpZ2h0PSIxMiI+PHBhdGggZmlsbD0iI0ZGRiIgZD0iTTYuNSA5LjQzOWwtMy42NzQgMi4yMy45NC00LjI2LTMuMjEtMi44ODMgNC4yNTQtLjQwNEw2LjUuMTEybDEuNjkgNC4wMSA0LjI1NC40MDQtMy4yMSAyLjg4Mi45NCA0LjI2eiIvPjwvc3ZnPg==\"/>\n",
      "      </div>\n",
      "     </span>\n",
      "     <span class=\"_2_R_DZ\">\n",
      "      <span>\n",
      "       <span>\n",
      "        73,347 Ratings\n",
      "       </span>\n",
      "       <span class=\"_13vcmD\">\n",
      "        &amp;\n",
      "       </span>\n",
      "       <span>\n",
      "        5,797 Reviews\n",
      "       </span>\n",
      "      </span>\n",
      "     </span>\n",
      "    </div>\n",
      "    <div class=\"fMghEO\">\n",
      "     <ul class=\"_1xgFaf\">\n",
      "      <li class=\"rgWa7D\">\n",
      "       64 GB ROM\n",
      "      </li>\n",
      "      <li class=\"rgWa7D\">\n",
      "       13.72 cm (5.4 inch) Super Retina XDR Display\n",
      "      </li>\n",
      "      <li class=\"rgWa7D\">\n",
      "       12MP + 12MP | 12MP Front Camera\n",
      "      </li>\n",
      "      <li class=\"rgWa7D\">\n",
      "       A14 Bionic Chip with Next Generation Neural Engine Processor\n",
      "      </li>\n",
      "      <li class=\"rgWa7D\">\n",
      "       Ceramic Shield\n",
      "      </li>\n",
      "      <li class=\"rgWa7D\">\n",
      "       Industry-leading IP68 Water Resistance\n",
      "      </li>\n",
      "      <li class=\"rgWa7D\">\n",
      "       All Screen OLED Display\n",
      "      </li>\n",
      "      <li class=\"rgWa7D\">\n",
      "       12MP TrueDepth Front Camera with Night Mode, 4K Dolby Vision HDR Recording\n",
      "      </li>\n",
      "      <li class=\"rgWa7D\">\n",
      "       Brand Warranty for 1 Year\n",
      "      </li>\n",
      "     </ul>\n",
      "    </div>\n",
      "   </div>\n",
      "   <div class=\"col col-5-12 nlI3QM\">\n",
      "    <div class=\"_3tbKJL\">\n",
      "     <div class=\"_25b18c\">\n",
      "      <div class=\"_30jeq3 _1_WHN1\">\n",
      "       ₹49,999\n",
      "      </div>\n",
      "      <div class=\"_3I9_wc _27UcVY\">\n",
      "       ₹\n",
      "       <!-- -->\n",
      "       59,900\n",
      "      </div>\n",
      "      <div class=\"_3Ay6Sb\">\n",
      "       <span>\n",
      "        16% off\n",
      "       </span>\n",
      "      </div>\n",
      "     </div>\n",
      "     <div class=\"_3tcB5a p8ucoS\">\n",
      "      <div>\n",
      "       <div class=\"_2Tpdn3\" style=\"color:#000000;font-size:12px;font-style:normal;font-weight:400\">\n",
      "        Free delivery\n",
      "       </div>\n",
      "      </div>\n",
      "     </div>\n",
      "    </div>\n",
      "    <div class=\"_13J9qT\">\n",
      "     <img height=\"21\" src=\"//static-assets-web.flixcart.com/www/linchpin/fk-cp-zion/img/fa_62673a.png\"/>\n",
      "    </div>\n",
      "    <div class=\"_2ZdXDB\">\n",
      "     <div class=\"_3xFhiH\">\n",
      "      <div class=\"_2Tpdn3 _18hQoS\" style=\"color:#000000;font-size:14px;font-style:normal;font-weight:400\">\n",
      "       Upto\n",
      "      </div>\n",
      "      <div class=\"_2Tpdn3 _18hQoS\" style=\"color:#000000;font-size:14px;font-style:normal;font-weight:700\">\n",
      "       ₹15,450\n",
      "      </div>\n",
      "      <div class=\"_2Tpdn3 _18hQoS\" style=\"color:#000000;font-size:14px;font-style:normal;font-weight:400\">\n",
      "       Off on Exchange\n",
      "      </div>\n",
      "     </div>\n",
      "    </div>\n",
      "   </div>\n",
      "  </div>\n",
      " </a>\n",
      "</div>\n"
     ]
    }
   ],
   "source": [
    "con = container[0]\n",
    "\n",
    "print(soup.prettify(con))"
   ]
  },
  {
   "cell_type": "markdown",
   "id": "79e920e9",
   "metadata": {},
   "source": [
    "# Product Name"
   ]
  },
  {
   "cell_type": "code",
   "execution_count": 15,
   "id": "ac76e3e2",
   "metadata": {
    "collapsed": true
   },
   "outputs": [
    {
     "name": "stdout",
     "output_type": "stream",
     "text": [
      "APPLE iPhone 12 Mini (Black, 64 GB)\n",
      "APPLE iPhone 12 (Black, 64 GB)\n",
      "APPLE iPhone SE (Black, 64 GB)\n",
      "APPLE iPhone 12 Mini (Blue, 64 GB)\n",
      "APPLE iPhone 12 Mini (White, 64 GB)\n",
      "APPLE iPhone SE (White, 64 GB)\n",
      "APPLE iPhone SE (Red, 64 GB)\n",
      "APPLE iPhone SE (Black, 128 GB)\n",
      "APPLE iPhone SE (Red, 128 GB)\n",
      "APPLE iPhone 12 (Blue, 128 GB)\n",
      "APPLE iPhone 13 Pro (Sierra Blue, 128 GB)\n",
      "APPLE iPhone SE (White, 128 GB)\n",
      "APPLE iPhone 13 ((PRODUCT)RED, 128 GB)\n",
      "APPLE iPhone 12 (Red, 128 GB)\n",
      "APPLE iPhone 12 Mini (Blue, 128 GB)\n",
      "Apple iPhone XR (White, 64 GB) (Includes EarPods, Power Adapter)\n",
      "APPLE iPhone 13 (Starlight, 256 GB)\n",
      "APPLE iPhone 13 Mini (Blue, 128 GB)\n",
      "APPLE iPhone 13 (Pink, 256 GB)\n",
      "APPLE iPhone 13 (Blue, 128 GB)\n",
      "APPLE iPhone SE (Red, 256 GB)\n",
      "APPLE iPhone 13 Mini (Midnight, 128 GB)\n",
      "APPLE iPhone 12 Mini (White, 256 GB)\n",
      "APPLE iPhone 13 Pro (Silver, 128 GB)\n"
     ]
    }
   ],
   "source": [
    "for co in container:\n",
    "    product_name = co.div.img[\"alt\"]\n",
    "    print(product_name)"
   ]
  },
  {
   "cell_type": "markdown",
   "id": "00bf225b",
   "metadata": {},
   "source": [
    "# Sale Price"
   ]
  },
  {
   "cell_type": "code",
   "execution_count": 19,
   "id": "a3b655f4",
   "metadata": {
    "collapsed": true
   },
   "outputs": [
    {
     "name": "stdout",
     "output_type": "stream",
     "text": [
      "₹49,999\n",
      "₹59,999\n",
      "₹30,499\n",
      "₹49,999\n",
      "₹49,999\n",
      "₹30,499\n",
      "₹30,499\n",
      "₹35,499\n",
      "₹34,999\n",
      "₹64,999\n",
      "₹1,19,900\n",
      "₹35,499\n",
      "₹79,900\n",
      "₹64,999\n",
      "₹54,999\n",
      "₹47,900\n",
      "₹89,900\n",
      "₹69,900\n",
      "₹89,900\n",
      "₹79,900\n",
      "₹45,499\n",
      "₹69,900\n",
      "₹65,499\n",
      "₹1,19,900\n"
     ]
    }
   ],
   "source": [
    "for co in container:\n",
    "    s_price = co.findAll(\"div\",{\"class\":\"_30jeq3 _1_WHN1\"})\n",
    "    print(s_price[0].text)"
   ]
  },
  {
   "cell_type": "markdown",
   "id": "3d0e8647",
   "metadata": {},
   "source": [
    "# Actual Price"
   ]
  },
  {
   "cell_type": "code",
   "execution_count": 21,
   "id": "53e8997f",
   "metadata": {
    "collapsed": true
   },
   "outputs": [
    {
     "name": "stdout",
     "output_type": "stream",
     "text": [
      "[<div class=\"_3I9_wc _27UcVY\">₹<!-- -->59,900</div>]\n",
      "[<div class=\"_3I9_wc _27UcVY\">₹<!-- -->65,900</div>]\n",
      "[<div class=\"_3I9_wc _27UcVY\">₹<!-- -->39,900</div>]\n",
      "[<div class=\"_3I9_wc _27UcVY\">₹<!-- -->59,900</div>]\n",
      "[<div class=\"_3I9_wc _27UcVY\">₹<!-- -->59,900</div>]\n",
      "[<div class=\"_3I9_wc _27UcVY\">₹<!-- -->39,900</div>]\n",
      "[<div class=\"_3I9_wc _27UcVY\">₹<!-- -->39,900</div>]\n",
      "[<div class=\"_3I9_wc _27UcVY\">₹<!-- -->44,900</div>]\n",
      "[<div class=\"_3I9_wc _27UcVY\">₹<!-- -->44,900</div>]\n",
      "[<div class=\"_3I9_wc _27UcVY\">₹<!-- -->70,900</div>]\n",
      "[]\n",
      "[<div class=\"_3I9_wc _27UcVY\">₹<!-- -->44,900</div>]\n",
      "[]\n",
      "[<div class=\"_3I9_wc _27UcVY\">₹<!-- -->70,900</div>]\n",
      "[<div class=\"_3I9_wc _27UcVY\">₹<!-- -->64,900</div>]\n",
      "[]\n",
      "[]\n",
      "[]\n",
      "[]\n",
      "[]\n",
      "[<div class=\"_3I9_wc _27UcVY\">₹<!-- -->54,900</div>]\n",
      "[]\n",
      "[<div class=\"_3I9_wc _27UcVY\">₹<!-- -->74,900</div>]\n",
      "[]\n"
     ]
    }
   ],
   "source": [
    "for co in container:\n",
    "    a_price = co.findAll(\"div\",{\"class\":\"_3I9_wc _27UcVY\"})\n",
    "    print(a_price)"
   ]
  },
  {
   "cell_type": "markdown",
   "id": "8993e118",
   "metadata": {},
   "source": [
    "# Ratting"
   ]
  },
  {
   "cell_type": "code",
   "execution_count": 25,
   "id": "838220b4",
   "metadata": {
    "collapsed": true
   },
   "outputs": [
    {
     "name": "stdout",
     "output_type": "stream",
     "text": [
      "4.5\n",
      "4.7\n",
      "4.5\n",
      "4.5\n",
      "4.5\n",
      "4.5\n",
      "4.5\n",
      "4.5\n",
      "4.5\n",
      "4.7\n",
      "4.7\n",
      "4.5\n",
      "4.7\n",
      "4.7\n",
      "4.5\n",
      "4.6\n",
      "4.7\n",
      "4.7\n",
      "4.7\n",
      "4.7\n",
      "4.5\n",
      "4.7\n",
      "4.5\n",
      "4.7\n"
     ]
    }
   ],
   "source": [
    "for co in container:\n",
    "    ratting = co.findAll(\"div\",{\"class\":\"_3LWZlK\"})\n",
    "    print(ratting[0].text)"
   ]
  },
  {
   "cell_type": "markdown",
   "id": "b9cc5dd6",
   "metadata": {},
   "source": [
    "# No of Review & Ratting"
   ]
  },
  {
   "cell_type": "code",
   "execution_count": 29,
   "id": "75b868ec",
   "metadata": {},
   "outputs": [
    {
     "name": "stdout",
     "output_type": "stream",
     "text": [
      "73,347 Ratings & 5,797 Reviews\n",
      "1,45,761 Ratings & 9,978 Reviews\n",
      "1,36,447 Ratings & 11,020 Reviews\n",
      "73,347 Ratings & 5,797 Reviews\n",
      "73,347 Ratings & 5,797 Reviews\n",
      "1,36,447 Ratings & 11,020 Reviews\n",
      "1,36,447 Ratings & 11,020 Reviews\n",
      "1,36,447 Ratings & 11,020 Reviews\n",
      "1,36,447 Ratings & 11,020 Reviews\n",
      "1,45,761 Ratings & 9,978 Reviews\n",
      "374 Ratings & 37 Reviews\n",
      "1,36,447 Ratings & 11,020 Reviews\n",
      "1,536 Ratings & 170 Reviews\n",
      "1,45,761 Ratings & 9,978 Reviews\n",
      "73,347 Ratings & 5,797 Reviews\n",
      "98,637 Ratings & 8,447 Reviews\n",
      "1,536 Ratings & 170 Reviews\n",
      "186 Ratings & 17 Reviews\n",
      "1,536 Ratings & 170 Reviews\n",
      "1,536 Ratings & 170 Reviews\n",
      "1,36,447 Ratings & 11,020 Reviews\n",
      "186 Ratings & 17 Reviews\n",
      "73,347 Ratings & 5,797 Reviews\n",
      "374 Ratings & 37 Reviews\n"
     ]
    }
   ],
   "source": [
    "for co in container:\n",
    "    n_review = co.findAll(\"span\",{\"class\":\"_2_R_DZ\"})\n",
    "    print(n_review[0].text)"
   ]
  },
  {
   "cell_type": "markdown",
   "id": "144ae88b",
   "metadata": {},
   "source": [
    "# Offer "
   ]
  },
  {
   "cell_type": "code",
   "execution_count": 31,
   "id": "ae9c6305",
   "metadata": {},
   "outputs": [
    {
     "name": "stdout",
     "output_type": "stream",
     "text": [
      "[<div class=\"_3Ay6Sb\"><span>16% off</span></div>]\n",
      "[<div class=\"_3Ay6Sb\"><span>8% off</span></div>]\n",
      "[<div class=\"_3Ay6Sb\"><span>23% off</span></div>]\n",
      "[<div class=\"_3Ay6Sb\"><span>16% off</span></div>]\n",
      "[<div class=\"_3Ay6Sb\"><span>16% off</span></div>]\n",
      "[<div class=\"_3Ay6Sb\"><span>23% off</span></div>]\n",
      "[<div class=\"_3Ay6Sb\"><span>23% off</span></div>]\n",
      "[<div class=\"_3Ay6Sb\"><span>20% off</span></div>]\n",
      "[<div class=\"_3Ay6Sb\"><span>22% off</span></div>]\n",
      "[<div class=\"_3Ay6Sb\"><span>8% off</span></div>]\n",
      "[]\n",
      "[<div class=\"_3Ay6Sb\"><span>20% off</span></div>]\n",
      "[]\n",
      "[<div class=\"_3Ay6Sb\"><span>8% off</span></div>]\n",
      "[<div class=\"_3Ay6Sb\"><span>15% off</span></div>]\n",
      "[]\n",
      "[]\n",
      "[]\n",
      "[]\n",
      "[]\n",
      "[<div class=\"_3Ay6Sb\"><span>17% off</span></div>]\n",
      "[]\n",
      "[<div class=\"_3Ay6Sb\"><span>12% off</span></div>]\n",
      "[]\n"
     ]
    }
   ],
   "source": [
    "for co in container:\n",
    "    offer = co.findAll(\"div\",{\"class\":\"_3Ay6Sb\"})\n",
    "    print(offer)"
   ]
  },
  {
   "cell_type": "code",
   "execution_count": null,
   "id": "cdd22910",
   "metadata": {},
   "outputs": [],
   "source": []
  }
 ],
 "metadata": {
  "kernelspec": {
   "display_name": "Python 3 (ipykernel)",
   "language": "python",
   "name": "python3"
  },
  "language_info": {
   "codemirror_mode": {
    "name": "ipython",
    "version": 3
   },
   "file_extension": ".py",
   "mimetype": "text/x-python",
   "name": "python",
   "nbconvert_exporter": "python",
   "pygments_lexer": "ipython3",
   "version": "3.9.7"
  }
 },
 "nbformat": 4,
 "nbformat_minor": 5
}
